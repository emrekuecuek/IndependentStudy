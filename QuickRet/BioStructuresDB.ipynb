{
 "cells": [
  {
   "cell_type": "code",
   "execution_count": 17,
   "metadata": {},
   "outputs": [],
   "source": [
    "using SQLite, BioStructures, DataFrames"
   ]
  },
  {
   "cell_type": "code",
   "execution_count": 18,
   "metadata": {},
   "outputs": [],
   "source": [
    "db_instance = SQLite.DB(\"./HashedData/quickret.db\");"
   ]
  },
  {
   "cell_type": "code",
   "execution_count": 8,
   "metadata": {},
   "outputs": [
    {
     "data": {
      "text/plain": [
       "write_proteinstructure (generic function with 2 methods)"
      ]
     },
     "execution_count": 8,
     "metadata": {},
     "output_type": "execute_result"
    }
   ],
   "source": [
    "function write_proteinstructure(db_instance::SQLite.DB, structure_name::String)\n",
    "    DBInterface.execute(db_instance, \"INSERT INTO proteinstructure (name) VALUES ('$(structure_name)')\")\n",
    "end\n",
    "\n",
    "function write_proteinstructure(db_instance::SQLite.DB, protein_structure::ProteinStructure)\n",
    "    DBInterface.execute(db_instance, \"INSERT INTO proteinstructure (name) VALUES ('$(protein_structure.name)')\")    \n",
    "end"
   ]
  },
  {
   "cell_type": "code",
   "execution_count": 9,
   "metadata": {},
   "outputs": [
    {
     "data": {
      "text/plain": [
       "write_model (generic function with 2 methods)"
      ]
     },
     "execution_count": 9,
     "metadata": {},
     "output_type": "execute_result"
    }
   ],
   "source": [
    "function write_model(db_instance::SQLite.DB, model_number::Int, protein_structure_id::Int)\n",
    "   DBInterface.execute(db_instance, \"INSERT INTO model (number,proteinstructureid) VALUES ($(model_number),$(protein_structure_id))\") \n",
    "end\n",
    "\n",
    "function write_model(db_instance::SQLite.DB, model::Model, protein_structure_id::Int)\n",
    "   DBInterface.execute(db_instance, \"INSERT INTO model (number,proteinstructureid) VALUES ($(model.number),$(protein_structure_id))\")\n",
    "end"
   ]
  },
  {
   "cell_type": "code",
   "execution_count": 10,
   "metadata": {},
   "outputs": [
    {
     "data": {
      "text/plain": [
       "write_residue (generic function with 1 method)"
      ]
     },
     "execution_count": 10,
     "metadata": {},
     "output_type": "execute_result"
    }
   ],
   "source": [
    "function write_residue(db_instance::SQLite.DB, residue::Residue, chain_id::Int)\n",
    "    DBInterface.execute(db_instance, \"INSERT INTO residue (name, number, ins_code, het_res, chainid) \n",
    "        VALUES ('$(residue.name)', $(residue.number), '$(residue.ins_code)', $(residue.het_res), $(chain_id))\")\n",
    "end"
   ]
  },
  {
   "cell_type": "code",
   "execution_count": 11,
   "metadata": {},
   "outputs": [
    {
     "data": {
      "text/plain": [
       "write_atom (generic function with 1 method)"
      ]
     },
     "execution_count": 11,
     "metadata": {},
     "output_type": "execute_result"
    }
   ],
   "source": [
    "function write_atom(db_instance::SQLite.DB, atom::Atom, residue_id::Int)\n",
    "    DBInterface.execute(db_instance, \"INSERT INTO atom \n",
    "        (serial, name, alt_loc_id, xcoord, ycoord, zcoord, occupancy, element, charge, residueid) \n",
    "        VALUES ($(atom.serial), '$(atom.name)', '$(atom.alt_loc_id)', $(x(atom)), $(y(atom)), $(y(atom)), $(atom.occupancy), '$(atom.element)', '$(atom.charge)', $(residue_id))\")\n",
    "end"
   ]
  },
  {
   "cell_type": "code",
   "execution_count": 12,
   "metadata": {},
   "outputs": [
    {
     "data": {
      "text/plain": [
       "get_proteinstructure_id (generic function with 3 methods)"
      ]
     },
     "execution_count": 12,
     "metadata": {},
     "output_type": "execute_result"
    }
   ],
   "source": [
    "function get_proteinstructure_id(db_instance::SQLite.DB, struc::ProteinStructure)\n",
    "    \n",
    "    return (DBInterface.execute(db_instance, \"\n",
    "        SELECT proteinstructureid FROM proteinstructure WHERE name = '$(struc.name)'\n",
    "        \") |> DataFrame).proteinstructureid[1]\n",
    "    \n",
    "end\n",
    "function get_proteinstructure_id(db_instance::SQLite.DB, model::Model)\n",
    "   return (DBInterface.execute(db_instance, \"\n",
    "        SELECT proteinstructureid FROM proteinstructure WHERE name = '$(model.structure.name)'        \n",
    "        \") |> DataFrame).proteinstructureid[1]\n",
    "end\n",
    "function get_proteinstructure_id(db_instance::SQLite.DB, chain::Chain)\n",
    "    return (DBInterface.execute(db_instance, \"\n",
    "                SELECT proteinstructureid FROM proteinstructure WHERE name = '$(chain.model.structure.name)'        \n",
    " \") |> DataFrame)proteinstructureid[1]\n",
    "end"
   ]
  },
  {
   "cell_type": "code",
   "execution_count": 13,
   "metadata": {},
   "outputs": [
    {
     "data": {
      "text/plain": [
       "get_model_id (generic function with 2 methods)"
      ]
     },
     "execution_count": 13,
     "metadata": {},
     "output_type": "execute_result"
    }
   ],
   "source": [
    "function get_model_id(db_instance::SQLite.DB, model::Model)\n",
    "    return (DBInterface.execute(db_instance, \"\n",
    "            SELECT modelid FROM model WHERE number = $(model.number)\n",
    "            \") |> DataFrame).modelid[1]\n",
    "end\n",
    "# function get_model_id(db_instance::SQLite.DB, chain::Chain)\n",
    "#     return (DBInterface.execute(db_instance, \"\n",
    "#             SELECT modelid FROM model WHERE number = $(chain.model.number)\n",
    "#             \") |> DataFrame).modelid\n",
    "# end\n",
    "function get_model_id(db_instance::SQLite.DB, chain::Chain)\n",
    "   return (DBInterface.execute(db_instance, \"\n",
    "        SELECT \n",
    "            model.modelid\n",
    "        FROM \n",
    "            model\n",
    "            INNER JOIN proteinstructure ON proteinstructure.proteinstructureid = model.proteinstructureid\n",
    "        WHERE\n",
    "            proteinstructure.name = '$(chain.model.structure.name)'\n",
    "            AND\n",
    "            model.number = $(chain.model.number)\n",
    "        \n",
    "    \") |> DataFrame).modelid[1]\n",
    "end"
   ]
  },
  {
   "cell_type": "code",
   "execution_count": 14,
   "metadata": {},
   "outputs": [
    {
     "data": {
      "text/plain": [
       "get_chain_id (generic function with 2 methods)"
      ]
     },
     "execution_count": 14,
     "metadata": {},
     "output_type": "execute_result"
    }
   ],
   "source": [
    "function get_chain_id(db_instance::SQLite.DB, chain::Chain)\n",
    "    return (DBInterface.execute(db_instance, \"\n",
    "            SELECT chainid FROM chain WHERE id = $(chain.id)\n",
    "            \") |> DataFrame).chainid[1]\n",
    "end\n",
    "function get_chain_id(db_instance::SQLite.DB, residue::Residue)\n",
    "    return (DBInterface.execute(db_instance, \"\n",
    "        SELECT \n",
    "            chain.chainid\n",
    "        FROM \n",
    "            chain\n",
    "            INNER JOIN model ON model.modelid = chain.modelid\n",
    "            INNER JOIN proteinstructure ON proteinstructure.proteinstructureid = model.proteinstructureid\n",
    "        WHERE\n",
    "            proteinstructure.name = '$(residue.chain.model.structure.name)'\n",
    "            AND\n",
    "            model.number = $(residue.chain.model.number)\n",
    "            AND\n",
    "            chain.id = '$(residue.chain.id)'\n",
    "    \") |> DataFrame).chainid[1]\n",
    "    \n",
    "end"
   ]
  },
  {
   "cell_type": "code",
   "execution_count": 15,
   "metadata": {},
   "outputs": [
    {
     "data": {
      "text/plain": [
       "get_residue_id (generic function with 2 methods)"
      ]
     },
     "execution_count": 15,
     "metadata": {},
     "output_type": "execute_result"
    }
   ],
   "source": [
    "function get_residue_id(db_instance::SQLite.DB, residue::Residue)\n",
    "    return (DBInterface.execute(db_instance, \"\n",
    "            SELECT residueid FROM residue WHERE number = $(residue.number)\n",
    "            \") |> DataFrame).residueid[1]\n",
    "end\n",
    "function get_residue_id(db_instance::SQLite.DB, atom::Atom)\n",
    "    return (DBInterface.execute(db_instance, \"\n",
    "        SELECT \n",
    "            residue.residueid\n",
    "        FROM \n",
    "            residue\n",
    "            INNER JOIN chain ON chain.chainid = residue.chainid\n",
    "            INNER JOIN model ON model.modelid = chain.modelid\n",
    "            INNER JOIN proteinstructure ON proteinstructure.proteinstructureid = model.proteinstructureid\n",
    "        WHERE\n",
    "            proteinstructure.name = '$(atom.residue.chain.model.structure.name)'\n",
    "            AND\n",
    "            model.number = $(atom.residue.chain.model.number)\n",
    "            AND\n",
    "            chain.id = '$(atom.residue.chain.id)'\n",
    "            AND\n",
    "            residue.number = $(atom.residue.number)\n",
    "    \") |> DataFrame).residueid[1]\n",
    "    \n",
    "end"
   ]
  },
  {
   "cell_type": "code",
   "execution_count": 16,
   "metadata": {},
   "outputs": [
    {
     "data": {
      "text/plain": [
       "write_pdb (generic function with 1 method)"
      ]
     },
     "execution_count": 16,
     "metadata": {},
     "output_type": "execute_result"
    }
   ],
   "source": [
    "function write_pdb(db_instance::SQLite.DB, struc::ProteinStructure)\n",
    "    write_proteinstructure(db_instance, struc)\n",
    "    for model_value in struc\n",
    "       write_model(db_instance, model_value, get_proteinstructure_id(db_instance, model_value))\n",
    "    end\n",
    "    \n",
    "    for model_value in struc\n",
    "        for chain_value in model_value\n",
    "            write_chain(db_instance, chain_value, get_model_id(db_instance, chain_value))\n",
    "        end\n",
    "    end\n",
    "    \n",
    "    for model_value in struc\n",
    "        for chain_value in model_value\n",
    "            for residue_value in chain_value\n",
    "                write_residue(db_instance, residue_value, get_chain_id(db_instance, residue_value))\n",
    "            end\n",
    "        end\n",
    "    end\n",
    "end"
   ]
  },
  {
   "cell_type": "code",
   "execution_count": null,
   "metadata": {},
   "outputs": [],
   "source": []
  }
 ],
 "metadata": {
  "kernelspec": {
   "display_name": "Julia 1.4.1",
   "language": "julia",
   "name": "julia-1.4"
  },
  "language_info": {
   "file_extension": ".jl",
   "mimetype": "application/julia",
   "name": "julia",
   "version": "1.4.1"
  }
 },
 "nbformat": 4,
 "nbformat_minor": 2
}
